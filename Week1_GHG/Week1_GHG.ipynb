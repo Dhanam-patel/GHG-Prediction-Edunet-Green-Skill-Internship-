{
 "cells": [
  {
   "cell_type": "markdown",
   "id": "5bb755f3",
   "metadata": {},
   "source": [
    "# Importing Libraries"
   ]
  },
  {
   "cell_type": "code",
   "execution_count": null,
   "id": "8726ccd0",
   "metadata": {},
   "outputs": [
    {
     "ename": "",
     "evalue": "",
     "output_type": "error",
     "traceback": [
      "\u001b[1;31mRunning cells with 'Python 3.13.1' requires the ipykernel package.\n",
      "\u001b[1;31m<a href='command:jupyter.createPythonEnvAndSelectController'>Create a Python Environment</a> with the required packages.\n",
      "\u001b[1;31mOr install 'ipykernel' using the command: '\"c:/Program Files/Python313/python.exe\" -m pip install ipykernel -U --user --force-reinstall'"
     ]
    }
   ],
   "source": [
    "import pandas as pd\n",
    "import seaborn as sns\n",
    "import matplotlib.pyplot as plt\n"
   ]
  },
  {
   "cell_type": "markdown",
   "id": "e9368206",
   "metadata": {},
   "source": [
    "# Importing the Dataset"
   ]
  },
  {
   "cell_type": "code",
   "execution_count": null,
   "id": "90752f67",
   "metadata": {},
   "outputs": [],
   "source": [
    "data_set = pd.read_csv('SupplyChainEmission.csv')\n",
    "print('shape: ',data_set.shape)\n",
    "data_set.head()"
   ]
  },
  {
   "cell_type": "markdown",
   "id": "60fa3dc0",
   "metadata": {},
   "source": [
    "# list of name of all the Columns "
   ]
  },
  {
   "cell_type": "code",
   "execution_count": null,
   "id": "6bbbaf67",
   "metadata": {},
   "outputs": [],
   "source": [
    "data_set.columns.to_list()"
   ]
  },
  {
   "cell_type": "markdown",
   "id": "dcb501eb",
   "metadata": {},
   "source": [
    "# Data type of the columns"
   ]
  },
  {
   "cell_type": "code",
   "execution_count": null,
   "id": "6fe2e658",
   "metadata": {},
   "outputs": [],
   "source": [
    "data_set.info()"
   ]
  },
  {
   "cell_type": "markdown",
   "id": "024c988d",
   "metadata": {},
   "source": [
    "# Cleaning the Data"
   ]
  },
  {
   "cell_type": "code",
   "execution_count": null,
   "id": "b73b9f36",
   "metadata": {},
   "outputs": [],
   "source": [
    "data_set.dropna(subset=[\"Supply Chain Emission Factors with Margins\"])\n",
    "data_set.drop_duplicates(inplace=True)\n",
    "data_set = data_set.drop(columns=['Unnamed: 7'])"
   ]
  },
  {
   "cell_type": "code",
   "execution_count": null,
   "id": "14b5a5d6",
   "metadata": {},
   "outputs": [],
   "source": [
    "data_set.head()"
   ]
  },
  {
   "cell_type": "markdown",
   "id": "67734019",
   "metadata": {},
   "source": [
    "# Top 10 Industries by Emission"
   ]
  },
  {
   "cell_type": "code",
   "execution_count": null,
   "id": "21f6cdc3",
   "metadata": {},
   "outputs": [],
   "source": [
    "\n",
    "top_10 = data_set.sort_values(by=\"Supply Chain Emission Factors with Margins\", ascending=False).head(13)\n",
    "plt.figure(figsize=(12,7))\n",
    "sns.barplot(data=top_10, x='Industry Name', y='Supply Chain Emission Factors with Margins' , color='grey')\n",
    "plt.title('Top 10 Industries by Emissions (2015)', fontsize=20)\n",
    "plt.xlabel('Industries',fontsize = 20)\n",
    "plt.ylabel('Emissions (kg CO2e)',fontsize = 20)\n",
    "plt.xticks(rotation=40, ha='right')\n",
    "plt.tight_layout()\n",
    "plt.show()"
   ]
  },
  {
   "cell_type": "markdown",
   "id": "90e8b2e9",
   "metadata": {},
   "source": [
    "# Emission Distribution Across Industries"
   ]
  },
  {
   "cell_type": "code",
   "execution_count": null,
   "id": "4e5e28e4",
   "metadata": {},
   "outputs": [],
   "source": [
    "plt.figure(figsize=(12,7))\n",
    "sns.histplot(data_set[\"Supply Chain Emission Factors with Margins\"], bins=25, kde=True, color='grey')\n",
    "plt.title(\"Distribution of Emission Values\", fontsize=15)\n",
    "plt.xlabel(\"Emission Factor (kg CO2e)\",fontsize = 15)\n",
    "plt.ylabel(\"Frequency\",fontsize = 15)\n",
    "plt.tight_layout()\n",
    "plt.show()"
   ]
  },
  {
   "cell_type": "markdown",
   "id": "bcd2fe46",
   "metadata": {},
   "source": [
    "# Summary\n",
    "- **Tools Used**: Python, Pandas, Seaborn, Matplotlib.\\n\n",
    "- **Dataset**: Loaded `SupplyChainEmission.csv` (264 rows, 13 columns) with U.S. industry-wise GHG emission factors (kg/2018 USD).\\n\n",
    "- **Cleaning**: Removed empty `Unnamed: 7` column; invalid entry in emission factors needs further cleaning.\\n\n",
    "- **visualization**:\n",
    "  - Listed column names and data types to understand dataset structure (e.g., industry codes, substances).\\n\n",
    "  - Histogram of emission factors (with margins) shows [e.g., right-skewed distribution, outliers >5 kg CO2e].\\n\n",
    "\n",
    "- **Outcome**: Dataset explored and  cleaned."
   ]
  }
 ],
 "metadata": {
  "kernelspec": {
   "display_name": "Python 3",
   "language": "python",
   "name": "python3"
  },
  "language_info": {
   "codemirror_mode": {
    "name": "ipython",
    "version": 3
   },
   "file_extension": ".py",
   "mimetype": "text/x-python",
   "name": "python",
   "nbconvert_exporter": "python",
   "pygments_lexer": "ipython3",
   "version": "3.13.1"
  }
 },
 "nbformat": 4,
 "nbformat_minor": 5
}
